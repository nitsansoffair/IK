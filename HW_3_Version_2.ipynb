{
  "nbformat": 4,
  "nbformat_minor": 0,
  "metadata": {
    "kernelspec": {
      "display_name": "Python 3",
      "language": "python",
      "name": "python3"
    },
    "language_info": {
      "codemirror_mode": {
        "name": "ipython",
        "version": 3
      },
      "file_extension": ".py",
      "mimetype": "text/x-python",
      "name": "python",
      "nbconvert_exporter": "python",
      "pygments_lexer": "ipython3",
      "version": "3.6.7"
    },
    "colab": {
      "provenance": []
    }
  },
  "cells": [
    {
      "cell_type": "markdown",
      "metadata": {
        "id": "yEpzoJKH0P2W"
      },
      "source": [
        "# Homework Assignment 3"
      ]
    },
    {
      "cell_type": "markdown",
      "metadata": {
        "id": "oH_ZGm7d0P2Z"
      },
      "source": [
        "Using the [Seattle Library Collection Inventory Dataset](https://www.kaggle.com/city-of-seattle/seattle-library-collection-inventory#library-collection-inventory.csv) and Vaex please, answer the following questions:\n",
        "\n",
        "Important Note: **You can use a reltaviely small subset of the big dataset.**"
      ]
    },
    {
      "cell_type": "markdown",
      "metadata": {
        "id": "LG0KyuFD0P2b"
      },
      "source": [
        "**Question 1:** Using Vaex, write a function that returns the most popular book in each subject. Use it to find the most popular book in\n",
        "    the _Mystery Fiction_ subject (15pt)"
      ]
    },
    {
      "cell_type": "code",
      "source": [
        "!pip install vaex"
      ],
      "metadata": {
        "colab": {
          "base_uri": "https://localhost:8080/"
        },
        "id": "vEF9nbIZM0Ej",
        "outputId": "d4140648-f130-45fc-b040-1dd02dd42227"
      },
      "execution_count": 1,
      "outputs": [
        {
          "output_type": "stream",
          "name": "stdout",
          "text": [
            "Requirement already satisfied: vaex in /usr/local/lib/python3.10/dist-packages (4.17.0)\n",
            "Requirement already satisfied: vaex-core~=4.17.1 in /usr/local/lib/python3.10/dist-packages (from vaex) (4.17.1)\n",
            "Requirement already satisfied: vaex-astro<0.10,>=0.9.3 in /usr/local/lib/python3.10/dist-packages (from vaex) (0.9.3)\n",
            "Requirement already satisfied: vaex-hdf5<0.15,>=0.13.0 in /usr/local/lib/python3.10/dist-packages (from vaex) (0.14.1)\n",
            "Requirement already satisfied: vaex-viz<0.6,>=0.5.4 in /usr/local/lib/python3.10/dist-packages (from vaex) (0.5.4)\n",
            "Requirement already satisfied: vaex-server~=0.9.0 in /usr/local/lib/python3.10/dist-packages (from vaex) (0.9.0)\n",
            "Requirement already satisfied: vaex-jupyter<0.9,>=0.8.2 in /usr/local/lib/python3.10/dist-packages (from vaex) (0.8.2)\n",
            "Requirement already satisfied: vaex-ml<0.19,>=0.18.3 in /usr/local/lib/python3.10/dist-packages (from vaex) (0.18.3)\n",
            "Requirement already satisfied: astropy in /usr/local/lib/python3.10/dist-packages (from vaex-astro<0.10,>=0.9.3->vaex) (6.1.6)\n",
            "Requirement already satisfied: numpy>=1.16 in /usr/local/lib/python3.10/dist-packages (from vaex-core~=4.17.1->vaex) (1.26.4)\n",
            "Requirement already satisfied: aplus in /usr/local/lib/python3.10/dist-packages (from vaex-core~=4.17.1->vaex) (0.11.0)\n",
            "Requirement already satisfied: tabulate>=0.8.3 in /usr/local/lib/python3.10/dist-packages (from vaex-core~=4.17.1->vaex) (0.9.0)\n",
            "Requirement already satisfied: future>=0.15.2 in /usr/local/lib/python3.10/dist-packages (from vaex-core~=4.17.1->vaex) (1.0.0)\n",
            "Requirement already satisfied: pyyaml in /usr/local/lib/python3.10/dist-packages (from vaex-core~=4.17.1->vaex) (6.0.2)\n",
            "Requirement already satisfied: progressbar2 in /usr/local/lib/python3.10/dist-packages (from vaex-core~=4.17.1->vaex) (4.5.0)\n",
            "Requirement already satisfied: requests in /usr/local/lib/python3.10/dist-packages (from vaex-core~=4.17.1->vaex) (2.32.3)\n",
            "Requirement already satisfied: six in /usr/local/lib/python3.10/dist-packages (from vaex-core~=4.17.1->vaex) (1.16.0)\n",
            "Requirement already satisfied: cloudpickle in /usr/local/lib/python3.10/dist-packages (from vaex-core~=4.17.1->vaex) (3.1.0)\n",
            "Requirement already satisfied: pandas in /usr/local/lib/python3.10/dist-packages (from vaex-core~=4.17.1->vaex) (2.2.2)\n",
            "Requirement already satisfied: dask!=2022.4.0 in /usr/local/lib/python3.10/dist-packages (from vaex-core~=4.17.1->vaex) (2024.10.0)\n",
            "Requirement already satisfied: nest-asyncio>=1.3.3 in /usr/local/lib/python3.10/dist-packages (from vaex-core~=4.17.1->vaex) (1.6.0)\n",
            "Requirement already satisfied: pyarrow>=5.0.0 in /usr/local/lib/python3.10/dist-packages (from vaex-core~=4.17.1->vaex) (17.0.0)\n",
            "Requirement already satisfied: frozendict!=2.2.0 in /usr/local/lib/python3.10/dist-packages (from vaex-core~=4.17.1->vaex) (2.4.6)\n",
            "Requirement already satisfied: blake3 in /usr/local/lib/python3.10/dist-packages (from vaex-core~=4.17.1->vaex) (0.4.1)\n",
            "Requirement already satisfied: filelock in /usr/local/lib/python3.10/dist-packages (from vaex-core~=4.17.1->vaex) (3.16.1)\n",
            "Requirement already satisfied: pydantic>=1.8.0 in /usr/local/lib/python3.10/dist-packages (from vaex-core~=4.17.1->vaex) (2.9.2)\n",
            "Requirement already satisfied: rich in /usr/local/lib/python3.10/dist-packages (from vaex-core~=4.17.1->vaex) (13.9.4)\n",
            "Requirement already satisfied: h5py>=2.9 in /usr/local/lib/python3.10/dist-packages (from vaex-hdf5<0.15,>=0.13.0->vaex) (3.12.1)\n",
            "Requirement already satisfied: bqplot>=0.10.1 in /usr/local/lib/python3.10/dist-packages (from vaex-jupyter<0.9,>=0.8.2->vaex) (0.12.43)\n",
            "Requirement already satisfied: ipyvolume>=0.4 in /usr/local/lib/python3.10/dist-packages (from vaex-jupyter<0.9,>=0.8.2->vaex) (0.6.3)\n",
            "Requirement already satisfied: ipyleaflet in /usr/local/lib/python3.10/dist-packages (from vaex-jupyter<0.9,>=0.8.2->vaex) (0.19.2)\n",
            "Requirement already satisfied: ipympl in /usr/local/lib/python3.10/dist-packages (from vaex-jupyter<0.9,>=0.8.2->vaex) (0.9.4)\n",
            "Requirement already satisfied: ipyvuetify<2,>=1.2.2 in /usr/local/lib/python3.10/dist-packages (from vaex-jupyter<0.9,>=0.8.2->vaex) (1.10.0)\n",
            "Requirement already satisfied: xarray in /usr/local/lib/python3.10/dist-packages (from vaex-jupyter<0.9,>=0.8.2->vaex) (2024.10.0)\n",
            "Requirement already satisfied: numba in /usr/local/lib/python3.10/dist-packages (from vaex-ml<0.19,>=0.18.3->vaex) (0.60.0)\n",
            "Requirement already satisfied: traitlets in /usr/local/lib/python3.10/dist-packages (from vaex-ml<0.19,>=0.18.3->vaex) (5.7.1)\n",
            "Requirement already satisfied: jinja2 in /usr/local/lib/python3.10/dist-packages (from vaex-ml<0.19,>=0.18.3->vaex) (3.1.4)\n",
            "Requirement already satisfied: tornado>4.1 in /usr/local/lib/python3.10/dist-packages (from vaex-server~=0.9.0->vaex) (6.3.3)\n",
            "Requirement already satisfied: cachetools in /usr/local/lib/python3.10/dist-packages (from vaex-server~=0.9.0->vaex) (5.5.0)\n",
            "Requirement already satisfied: fastapi in /usr/local/lib/python3.10/dist-packages (from vaex-server~=0.9.0->vaex) (0.115.5)\n",
            "Requirement already satisfied: uvicorn[standard] in /usr/local/lib/python3.10/dist-packages (from vaex-server~=0.9.0->vaex) (0.32.0)\n",
            "Requirement already satisfied: matplotlib>=1.3.1 in /usr/local/lib/python3.10/dist-packages (from vaex-viz<0.6,>=0.5.4->vaex) (3.8.0)\n",
            "Requirement already satisfied: pillow in /usr/local/lib/python3.10/dist-packages (from vaex-viz<0.6,>=0.5.4->vaex) (11.0.0)\n",
            "Requirement already satisfied: ipywidgets<9,>=7.5.0 in /usr/local/lib/python3.10/dist-packages (from bqplot>=0.10.1->vaex-jupyter<0.9,>=0.8.2->vaex) (7.7.1)\n",
            "Requirement already satisfied: traittypes>=0.0.6 in /usr/local/lib/python3.10/dist-packages (from bqplot>=0.10.1->vaex-jupyter<0.9,>=0.8.2->vaex) (0.2.1)\n",
            "Requirement already satisfied: click>=8.1 in /usr/local/lib/python3.10/dist-packages (from dask!=2022.4.0->vaex-core~=4.17.1->vaex) (8.1.7)\n",
            "Requirement already satisfied: fsspec>=2021.09.0 in /usr/local/lib/python3.10/dist-packages (from dask!=2022.4.0->vaex-core~=4.17.1->vaex) (2024.10.0)\n",
            "Requirement already satisfied: packaging>=20.0 in /usr/local/lib/python3.10/dist-packages (from dask!=2022.4.0->vaex-core~=4.17.1->vaex) (24.2)\n",
            "Requirement already satisfied: partd>=1.4.0 in /usr/local/lib/python3.10/dist-packages (from dask!=2022.4.0->vaex-core~=4.17.1->vaex) (1.4.2)\n",
            "Requirement already satisfied: toolz>=0.10.0 in /usr/local/lib/python3.10/dist-packages (from dask!=2022.4.0->vaex-core~=4.17.1->vaex) (0.12.1)\n",
            "Requirement already satisfied: importlib-metadata>=4.13.0 in /usr/local/lib/python3.10/dist-packages (from dask!=2022.4.0->vaex-core~=4.17.1->vaex) (8.5.0)\n",
            "Requirement already satisfied: ipywebrtc in /usr/local/lib/python3.10/dist-packages (from ipyvolume>=0.4->vaex-jupyter<0.9,>=0.8.2->vaex) (0.6.0)\n",
            "Requirement already satisfied: ipyvue>=1.7.0 in /usr/local/lib/python3.10/dist-packages (from ipyvolume>=0.4->vaex-jupyter<0.9,>=0.8.2->vaex) (1.11.2)\n",
            "Requirement already satisfied: pythreejs>=2.4.0 in /usr/local/lib/python3.10/dist-packages (from ipyvolume>=0.4->vaex-jupyter<0.9,>=0.8.2->vaex) (2.4.2)\n",
            "Requirement already satisfied: contourpy>=1.0.1 in /usr/local/lib/python3.10/dist-packages (from matplotlib>=1.3.1->vaex-viz<0.6,>=0.5.4->vaex) (1.3.1)\n",
            "Requirement already satisfied: cycler>=0.10 in /usr/local/lib/python3.10/dist-packages (from matplotlib>=1.3.1->vaex-viz<0.6,>=0.5.4->vaex) (0.12.1)\n",
            "Requirement already satisfied: fonttools>=4.22.0 in /usr/local/lib/python3.10/dist-packages (from matplotlib>=1.3.1->vaex-viz<0.6,>=0.5.4->vaex) (4.54.1)\n",
            "Requirement already satisfied: kiwisolver>=1.0.1 in /usr/local/lib/python3.10/dist-packages (from matplotlib>=1.3.1->vaex-viz<0.6,>=0.5.4->vaex) (1.4.7)\n",
            "Requirement already satisfied: pyparsing>=2.3.1 in /usr/local/lib/python3.10/dist-packages (from matplotlib>=1.3.1->vaex-viz<0.6,>=0.5.4->vaex) (3.2.0)\n",
            "Requirement already satisfied: python-dateutil>=2.7 in /usr/local/lib/python3.10/dist-packages (from matplotlib>=1.3.1->vaex-viz<0.6,>=0.5.4->vaex) (2.8.2)\n",
            "Requirement already satisfied: pytz>=2020.1 in /usr/local/lib/python3.10/dist-packages (from pandas->vaex-core~=4.17.1->vaex) (2024.2)\n",
            "Requirement already satisfied: tzdata>=2022.7 in /usr/local/lib/python3.10/dist-packages (from pandas->vaex-core~=4.17.1->vaex) (2024.2)\n",
            "Requirement already satisfied: annotated-types>=0.6.0 in /usr/local/lib/python3.10/dist-packages (from pydantic>=1.8.0->vaex-core~=4.17.1->vaex) (0.7.0)\n",
            "Requirement already satisfied: pydantic-core==2.23.4 in /usr/local/lib/python3.10/dist-packages (from pydantic>=1.8.0->vaex-core~=4.17.1->vaex) (2.23.4)\n",
            "Requirement already satisfied: typing-extensions>=4.6.1 in /usr/local/lib/python3.10/dist-packages (from pydantic>=1.8.0->vaex-core~=4.17.1->vaex) (4.12.2)\n",
            "Requirement already satisfied: pyerfa>=2.0.1.1 in /usr/local/lib/python3.10/dist-packages (from astropy->vaex-astro<0.10,>=0.9.3->vaex) (2.0.1.5)\n",
            "Requirement already satisfied: astropy-iers-data>=0.2024.10.28.0.34.7 in /usr/local/lib/python3.10/dist-packages (from astropy->vaex-astro<0.10,>=0.9.3->vaex) (0.2024.11.11.0.32.38)\n",
            "Requirement already satisfied: starlette<0.42.0,>=0.40.0 in /usr/local/lib/python3.10/dist-packages (from fastapi->vaex-server~=0.9.0->vaex) (0.41.3)\n",
            "Requirement already satisfied: branca>=0.5.0 in /usr/local/lib/python3.10/dist-packages (from ipyleaflet->vaex-jupyter<0.9,>=0.8.2->vaex) (0.8.0)\n",
            "Requirement already satisfied: jupyter-leaflet<0.20,>=0.19 in /usr/local/lib/python3.10/dist-packages (from ipyleaflet->vaex-jupyter<0.9,>=0.8.2->vaex) (0.19.2)\n",
            "Requirement already satisfied: xyzservices>=2021.8.1 in /usr/local/lib/python3.10/dist-packages (from ipyleaflet->vaex-jupyter<0.9,>=0.8.2->vaex) (2024.9.0)\n",
            "Requirement already satisfied: ipython-genutils in /usr/local/lib/python3.10/dist-packages (from ipympl->vaex-jupyter<0.9,>=0.8.2->vaex) (0.2.0)\n",
            "Requirement already satisfied: ipython<9 in /usr/local/lib/python3.10/dist-packages (from ipympl->vaex-jupyter<0.9,>=0.8.2->vaex) (7.34.0)\n",
            "Requirement already satisfied: MarkupSafe>=2.0 in /usr/local/lib/python3.10/dist-packages (from jinja2->vaex-ml<0.19,>=0.18.3->vaex) (3.0.2)\n",
            "Requirement already satisfied: llvmlite<0.44,>=0.43.0dev0 in /usr/local/lib/python3.10/dist-packages (from numba->vaex-ml<0.19,>=0.18.3->vaex) (0.43.0)\n",
            "Requirement already satisfied: python-utils>=3.8.1 in /usr/local/lib/python3.10/dist-packages (from progressbar2->vaex-core~=4.17.1->vaex) (3.9.0)\n",
            "Requirement already satisfied: charset-normalizer<4,>=2 in /usr/local/lib/python3.10/dist-packages (from requests->vaex-core~=4.17.1->vaex) (3.4.0)\n",
            "Requirement already satisfied: idna<4,>=2.5 in /usr/local/lib/python3.10/dist-packages (from requests->vaex-core~=4.17.1->vaex) (3.10)\n",
            "Requirement already satisfied: urllib3<3,>=1.21.1 in /usr/local/lib/python3.10/dist-packages (from requests->vaex-core~=4.17.1->vaex) (2.2.3)\n",
            "Requirement already satisfied: certifi>=2017.4.17 in /usr/local/lib/python3.10/dist-packages (from requests->vaex-core~=4.17.1->vaex) (2024.8.30)\n",
            "Requirement already satisfied: markdown-it-py>=2.2.0 in /usr/local/lib/python3.10/dist-packages (from rich->vaex-core~=4.17.1->vaex) (3.0.0)\n",
            "Requirement already satisfied: pygments<3.0.0,>=2.13.0 in /usr/local/lib/python3.10/dist-packages (from rich->vaex-core~=4.17.1->vaex) (2.18.0)\n",
            "Requirement already satisfied: h11>=0.8 in /usr/local/lib/python3.10/dist-packages (from uvicorn[standard]->vaex-server~=0.9.0->vaex) (0.14.0)\n",
            "Requirement already satisfied: httptools>=0.5.0 in /usr/local/lib/python3.10/dist-packages (from uvicorn[standard]->vaex-server~=0.9.0->vaex) (0.6.4)\n",
            "Requirement already satisfied: python-dotenv>=0.13 in /usr/local/lib/python3.10/dist-packages (from uvicorn[standard]->vaex-server~=0.9.0->vaex) (1.0.1)\n",
            "Requirement already satisfied: uvloop!=0.15.0,!=0.15.1,>=0.14.0 in /usr/local/lib/python3.10/dist-packages (from uvicorn[standard]->vaex-server~=0.9.0->vaex) (0.21.0)\n",
            "Requirement already satisfied: watchfiles>=0.13 in /usr/local/lib/python3.10/dist-packages (from uvicorn[standard]->vaex-server~=0.9.0->vaex) (0.24.0)\n",
            "Requirement already satisfied: websockets>=10.4 in /usr/local/lib/python3.10/dist-packages (from uvicorn[standard]->vaex-server~=0.9.0->vaex) (14.1)\n",
            "Requirement already satisfied: zipp>=3.20 in /usr/local/lib/python3.10/dist-packages (from importlib-metadata>=4.13.0->dask!=2022.4.0->vaex-core~=4.17.1->vaex) (3.21.0)\n",
            "Requirement already satisfied: setuptools>=18.5 in /usr/local/lib/python3.10/dist-packages (from ipython<9->ipympl->vaex-jupyter<0.9,>=0.8.2->vaex) (75.1.0)\n",
            "Requirement already satisfied: jedi>=0.16 in /usr/local/lib/python3.10/dist-packages (from ipython<9->ipympl->vaex-jupyter<0.9,>=0.8.2->vaex) (0.19.2)\n",
            "Requirement already satisfied: decorator in /usr/local/lib/python3.10/dist-packages (from ipython<9->ipympl->vaex-jupyter<0.9,>=0.8.2->vaex) (4.4.2)\n",
            "Requirement already satisfied: pickleshare in /usr/local/lib/python3.10/dist-packages (from ipython<9->ipympl->vaex-jupyter<0.9,>=0.8.2->vaex) (0.7.5)\n",
            "Requirement already satisfied: prompt-toolkit!=3.0.0,!=3.0.1,<3.1.0,>=2.0.0 in /usr/local/lib/python3.10/dist-packages (from ipython<9->ipympl->vaex-jupyter<0.9,>=0.8.2->vaex) (3.0.48)\n",
            "Requirement already satisfied: backcall in /usr/local/lib/python3.10/dist-packages (from ipython<9->ipympl->vaex-jupyter<0.9,>=0.8.2->vaex) (0.2.0)\n",
            "Requirement already satisfied: matplotlib-inline in /usr/local/lib/python3.10/dist-packages (from ipython<9->ipympl->vaex-jupyter<0.9,>=0.8.2->vaex) (0.1.7)\n",
            "Requirement already satisfied: pexpect>4.3 in /usr/local/lib/python3.10/dist-packages (from ipython<9->ipympl->vaex-jupyter<0.9,>=0.8.2->vaex) (4.9.0)\n",
            "Requirement already satisfied: ipykernel>=4.5.1 in /usr/local/lib/python3.10/dist-packages (from ipywidgets<9,>=7.5.0->bqplot>=0.10.1->vaex-jupyter<0.9,>=0.8.2->vaex) (5.5.6)\n",
            "Requirement already satisfied: widgetsnbextension~=3.6.0 in /usr/local/lib/python3.10/dist-packages (from ipywidgets<9,>=7.5.0->bqplot>=0.10.1->vaex-jupyter<0.9,>=0.8.2->vaex) (3.6.10)\n",
            "Requirement already satisfied: jupyterlab-widgets>=1.0.0 in /usr/local/lib/python3.10/dist-packages (from ipywidgets<9,>=7.5.0->bqplot>=0.10.1->vaex-jupyter<0.9,>=0.8.2->vaex) (3.0.13)\n",
            "Requirement already satisfied: mdurl~=0.1 in /usr/local/lib/python3.10/dist-packages (from markdown-it-py>=2.2.0->rich->vaex-core~=4.17.1->vaex) (0.1.2)\n",
            "Requirement already satisfied: locket in /usr/local/lib/python3.10/dist-packages (from partd>=1.4.0->dask!=2022.4.0->vaex-core~=4.17.1->vaex) (1.0.0)\n",
            "Requirement already satisfied: ipydatawidgets>=1.1.1 in /usr/local/lib/python3.10/dist-packages (from pythreejs>=2.4.0->ipyvolume>=0.4->vaex-jupyter<0.9,>=0.8.2->vaex) (4.3.5)\n",
            "Requirement already satisfied: anyio<5,>=3.4.0 in /usr/local/lib/python3.10/dist-packages (from starlette<0.42.0,>=0.40.0->fastapi->vaex-server~=0.9.0->vaex) (3.7.1)\n",
            "Requirement already satisfied: sniffio>=1.1 in /usr/local/lib/python3.10/dist-packages (from anyio<5,>=3.4.0->starlette<0.42.0,>=0.40.0->fastapi->vaex-server~=0.9.0->vaex) (1.3.1)\n",
            "Requirement already satisfied: exceptiongroup in /usr/local/lib/python3.10/dist-packages (from anyio<5,>=3.4.0->starlette<0.42.0,>=0.40.0->fastapi->vaex-server~=0.9.0->vaex) (1.2.2)\n",
            "Requirement already satisfied: jupyter-client in /usr/local/lib/python3.10/dist-packages (from ipykernel>=4.5.1->ipywidgets<9,>=7.5.0->bqplot>=0.10.1->vaex-jupyter<0.9,>=0.8.2->vaex) (6.1.12)\n",
            "Requirement already satisfied: parso<0.9.0,>=0.8.4 in /usr/local/lib/python3.10/dist-packages (from jedi>=0.16->ipython<9->ipympl->vaex-jupyter<0.9,>=0.8.2->vaex) (0.8.4)\n",
            "Requirement already satisfied: ptyprocess>=0.5 in /usr/local/lib/python3.10/dist-packages (from pexpect>4.3->ipython<9->ipympl->vaex-jupyter<0.9,>=0.8.2->vaex) (0.7.0)\n",
            "Requirement already satisfied: wcwidth in /usr/local/lib/python3.10/dist-packages (from prompt-toolkit!=3.0.0,!=3.0.1,<3.1.0,>=2.0.0->ipython<9->ipympl->vaex-jupyter<0.9,>=0.8.2->vaex) (0.2.13)\n",
            "Requirement already satisfied: notebook>=4.4.1 in /usr/local/lib/python3.10/dist-packages (from widgetsnbextension~=3.6.0->ipywidgets<9,>=7.5.0->bqplot>=0.10.1->vaex-jupyter<0.9,>=0.8.2->vaex) (6.5.5)\n",
            "Requirement already satisfied: pyzmq<25,>=17 in /usr/local/lib/python3.10/dist-packages (from notebook>=4.4.1->widgetsnbextension~=3.6.0->ipywidgets<9,>=7.5.0->bqplot>=0.10.1->vaex-jupyter<0.9,>=0.8.2->vaex) (24.0.1)\n",
            "Requirement already satisfied: argon2-cffi in /usr/local/lib/python3.10/dist-packages (from notebook>=4.4.1->widgetsnbextension~=3.6.0->ipywidgets<9,>=7.5.0->bqplot>=0.10.1->vaex-jupyter<0.9,>=0.8.2->vaex) (23.1.0)\n",
            "Requirement already satisfied: jupyter-core>=4.6.1 in /usr/local/lib/python3.10/dist-packages (from notebook>=4.4.1->widgetsnbextension~=3.6.0->ipywidgets<9,>=7.5.0->bqplot>=0.10.1->vaex-jupyter<0.9,>=0.8.2->vaex) (5.7.2)\n",
            "Requirement already satisfied: nbformat in /usr/local/lib/python3.10/dist-packages (from notebook>=4.4.1->widgetsnbextension~=3.6.0->ipywidgets<9,>=7.5.0->bqplot>=0.10.1->vaex-jupyter<0.9,>=0.8.2->vaex) (5.10.4)\n",
            "Requirement already satisfied: nbconvert>=5 in /usr/local/lib/python3.10/dist-packages (from notebook>=4.4.1->widgetsnbextension~=3.6.0->ipywidgets<9,>=7.5.0->bqplot>=0.10.1->vaex-jupyter<0.9,>=0.8.2->vaex) (7.16.4)\n",
            "Requirement already satisfied: Send2Trash>=1.8.0 in /usr/local/lib/python3.10/dist-packages (from notebook>=4.4.1->widgetsnbextension~=3.6.0->ipywidgets<9,>=7.5.0->bqplot>=0.10.1->vaex-jupyter<0.9,>=0.8.2->vaex) (1.8.3)\n",
            "Requirement already satisfied: terminado>=0.8.3 in /usr/local/lib/python3.10/dist-packages (from notebook>=4.4.1->widgetsnbextension~=3.6.0->ipywidgets<9,>=7.5.0->bqplot>=0.10.1->vaex-jupyter<0.9,>=0.8.2->vaex) (0.18.1)\n",
            "Requirement already satisfied: prometheus-client in /usr/local/lib/python3.10/dist-packages (from notebook>=4.4.1->widgetsnbextension~=3.6.0->ipywidgets<9,>=7.5.0->bqplot>=0.10.1->vaex-jupyter<0.9,>=0.8.2->vaex) (0.21.0)\n",
            "Requirement already satisfied: nbclassic>=0.4.7 in /usr/local/lib/python3.10/dist-packages (from notebook>=4.4.1->widgetsnbextension~=3.6.0->ipywidgets<9,>=7.5.0->bqplot>=0.10.1->vaex-jupyter<0.9,>=0.8.2->vaex) (1.1.0)\n",
            "Requirement already satisfied: platformdirs>=2.5 in /usr/local/lib/python3.10/dist-packages (from jupyter-core>=4.6.1->notebook>=4.4.1->widgetsnbextension~=3.6.0->ipywidgets<9,>=7.5.0->bqplot>=0.10.1->vaex-jupyter<0.9,>=0.8.2->vaex) (4.3.6)\n",
            "Requirement already satisfied: notebook-shim>=0.2.3 in /usr/local/lib/python3.10/dist-packages (from nbclassic>=0.4.7->notebook>=4.4.1->widgetsnbextension~=3.6.0->ipywidgets<9,>=7.5.0->bqplot>=0.10.1->vaex-jupyter<0.9,>=0.8.2->vaex) (0.2.4)\n",
            "Requirement already satisfied: beautifulsoup4 in /usr/local/lib/python3.10/dist-packages (from nbconvert>=5->notebook>=4.4.1->widgetsnbextension~=3.6.0->ipywidgets<9,>=7.5.0->bqplot>=0.10.1->vaex-jupyter<0.9,>=0.8.2->vaex) (4.12.3)\n",
            "Requirement already satisfied: bleach!=5.0.0 in /usr/local/lib/python3.10/dist-packages (from nbconvert>=5->notebook>=4.4.1->widgetsnbextension~=3.6.0->ipywidgets<9,>=7.5.0->bqplot>=0.10.1->vaex-jupyter<0.9,>=0.8.2->vaex) (6.2.0)\n",
            "Requirement already satisfied: defusedxml in /usr/local/lib/python3.10/dist-packages (from nbconvert>=5->notebook>=4.4.1->widgetsnbextension~=3.6.0->ipywidgets<9,>=7.5.0->bqplot>=0.10.1->vaex-jupyter<0.9,>=0.8.2->vaex) (0.7.1)\n",
            "Requirement already satisfied: jupyterlab-pygments in /usr/local/lib/python3.10/dist-packages (from nbconvert>=5->notebook>=4.4.1->widgetsnbextension~=3.6.0->ipywidgets<9,>=7.5.0->bqplot>=0.10.1->vaex-jupyter<0.9,>=0.8.2->vaex) (0.3.0)\n",
            "Requirement already satisfied: mistune<4,>=2.0.3 in /usr/local/lib/python3.10/dist-packages (from nbconvert>=5->notebook>=4.4.1->widgetsnbextension~=3.6.0->ipywidgets<9,>=7.5.0->bqplot>=0.10.1->vaex-jupyter<0.9,>=0.8.2->vaex) (3.0.2)\n",
            "Requirement already satisfied: nbclient>=0.5.0 in /usr/local/lib/python3.10/dist-packages (from nbconvert>=5->notebook>=4.4.1->widgetsnbextension~=3.6.0->ipywidgets<9,>=7.5.0->bqplot>=0.10.1->vaex-jupyter<0.9,>=0.8.2->vaex) (0.10.0)\n",
            "Requirement already satisfied: pandocfilters>=1.4.1 in /usr/local/lib/python3.10/dist-packages (from nbconvert>=5->notebook>=4.4.1->widgetsnbextension~=3.6.0->ipywidgets<9,>=7.5.0->bqplot>=0.10.1->vaex-jupyter<0.9,>=0.8.2->vaex) (1.5.1)\n",
            "Requirement already satisfied: tinycss2 in /usr/local/lib/python3.10/dist-packages (from nbconvert>=5->notebook>=4.4.1->widgetsnbextension~=3.6.0->ipywidgets<9,>=7.5.0->bqplot>=0.10.1->vaex-jupyter<0.9,>=0.8.2->vaex) (1.4.0)\n",
            "Requirement already satisfied: fastjsonschema>=2.15 in /usr/local/lib/python3.10/dist-packages (from nbformat->notebook>=4.4.1->widgetsnbextension~=3.6.0->ipywidgets<9,>=7.5.0->bqplot>=0.10.1->vaex-jupyter<0.9,>=0.8.2->vaex) (2.20.0)\n",
            "Requirement already satisfied: jsonschema>=2.6 in /usr/local/lib/python3.10/dist-packages (from nbformat->notebook>=4.4.1->widgetsnbextension~=3.6.0->ipywidgets<9,>=7.5.0->bqplot>=0.10.1->vaex-jupyter<0.9,>=0.8.2->vaex) (4.23.0)\n",
            "Requirement already satisfied: argon2-cffi-bindings in /usr/local/lib/python3.10/dist-packages (from argon2-cffi->notebook>=4.4.1->widgetsnbextension~=3.6.0->ipywidgets<9,>=7.5.0->bqplot>=0.10.1->vaex-jupyter<0.9,>=0.8.2->vaex) (21.2.0)\n",
            "Requirement already satisfied: webencodings in /usr/local/lib/python3.10/dist-packages (from bleach!=5.0.0->nbconvert>=5->notebook>=4.4.1->widgetsnbextension~=3.6.0->ipywidgets<9,>=7.5.0->bqplot>=0.10.1->vaex-jupyter<0.9,>=0.8.2->vaex) (0.5.1)\n",
            "Requirement already satisfied: attrs>=22.2.0 in /usr/local/lib/python3.10/dist-packages (from jsonschema>=2.6->nbformat->notebook>=4.4.1->widgetsnbextension~=3.6.0->ipywidgets<9,>=7.5.0->bqplot>=0.10.1->vaex-jupyter<0.9,>=0.8.2->vaex) (24.2.0)\n",
            "Requirement already satisfied: jsonschema-specifications>=2023.03.6 in /usr/local/lib/python3.10/dist-packages (from jsonschema>=2.6->nbformat->notebook>=4.4.1->widgetsnbextension~=3.6.0->ipywidgets<9,>=7.5.0->bqplot>=0.10.1->vaex-jupyter<0.9,>=0.8.2->vaex) (2024.10.1)\n",
            "Requirement already satisfied: referencing>=0.28.4 in /usr/local/lib/python3.10/dist-packages (from jsonschema>=2.6->nbformat->notebook>=4.4.1->widgetsnbextension~=3.6.0->ipywidgets<9,>=7.5.0->bqplot>=0.10.1->vaex-jupyter<0.9,>=0.8.2->vaex) (0.35.1)\n",
            "Requirement already satisfied: rpds-py>=0.7.1 in /usr/local/lib/python3.10/dist-packages (from jsonschema>=2.6->nbformat->notebook>=4.4.1->widgetsnbextension~=3.6.0->ipywidgets<9,>=7.5.0->bqplot>=0.10.1->vaex-jupyter<0.9,>=0.8.2->vaex) (0.21.0)\n",
            "Requirement already satisfied: jupyter-server<3,>=1.8 in /usr/local/lib/python3.10/dist-packages (from notebook-shim>=0.2.3->nbclassic>=0.4.7->notebook>=4.4.1->widgetsnbextension~=3.6.0->ipywidgets<9,>=7.5.0->bqplot>=0.10.1->vaex-jupyter<0.9,>=0.8.2->vaex) (1.24.0)\n",
            "Requirement already satisfied: cffi>=1.0.1 in /usr/local/lib/python3.10/dist-packages (from argon2-cffi-bindings->argon2-cffi->notebook>=4.4.1->widgetsnbextension~=3.6.0->ipywidgets<9,>=7.5.0->bqplot>=0.10.1->vaex-jupyter<0.9,>=0.8.2->vaex) (1.17.1)\n",
            "Requirement already satisfied: soupsieve>1.2 in /usr/local/lib/python3.10/dist-packages (from beautifulsoup4->nbconvert>=5->notebook>=4.4.1->widgetsnbextension~=3.6.0->ipywidgets<9,>=7.5.0->bqplot>=0.10.1->vaex-jupyter<0.9,>=0.8.2->vaex) (2.6)\n",
            "Requirement already satisfied: pycparser in /usr/local/lib/python3.10/dist-packages (from cffi>=1.0.1->argon2-cffi-bindings->argon2-cffi->notebook>=4.4.1->widgetsnbextension~=3.6.0->ipywidgets<9,>=7.5.0->bqplot>=0.10.1->vaex-jupyter<0.9,>=0.8.2->vaex) (2.22)\n",
            "Requirement already satisfied: websocket-client in /usr/local/lib/python3.10/dist-packages (from jupyter-server<3,>=1.8->notebook-shim>=0.2.3->nbclassic>=0.4.7->notebook>=4.4.1->widgetsnbextension~=3.6.0->ipywidgets<9,>=7.5.0->bqplot>=0.10.1->vaex-jupyter<0.9,>=0.8.2->vaex) (1.8.0)\n"
          ]
        }
      ]
    },
    {
      "cell_type": "code",
      "source": [
        "from google.colab import drive\n",
        "drive.mount('/content/drive')\n",
        "\n",
        "# Use the full path to your file in Google Drive\n",
        "file_path = '/content/drive/MyDrive/PhD/BGU/BigData/HW3/library-collection-inventory.csv'"
      ],
      "metadata": {
        "colab": {
          "base_uri": "https://localhost:8080/"
        },
        "id": "rY6Fii9sd-BQ",
        "outputId": "b350308d-f257-4953-8078-2231bf1bdd7b"
      },
      "execution_count": 2,
      "outputs": [
        {
          "output_type": "stream",
          "name": "stdout",
          "text": [
            "Drive already mounted at /content/drive; to attempt to forcibly remount, call drive.mount(\"/content/drive\", force_remount=True).\n"
          ]
        }
      ]
    },
    {
      "cell_type": "code",
      "metadata": {
        "id": "Ub2x4KPX0P2d"
      },
      "source": [
        "import vaex\n",
        "\n",
        "# Load the dataset into Vaex\n",
        "df = vaex.open(file_path)"
      ],
      "execution_count": 6,
      "outputs": []
    },
    {
      "cell_type": "code",
      "source": [
        "# Optional: Export a smaller subset (if needed)\n",
        "df_subset = df.head(1_000_000)"
      ],
      "metadata": {
        "id": "zmpOyFPOgwml"
      },
      "execution_count": 51,
      "outputs": []
    },
    {
      "cell_type": "code",
      "source": [
        "print(df_subset.head())"
      ],
      "metadata": {
        "colab": {
          "base_uri": "https://localhost:8080/"
        },
        "collapsed": true,
        "id": "f53MYNzpiq7F",
        "outputId": "350132cb-1fab-452a-e3ff-713fb9bcc5ae"
      },
      "execution_count": 52,
      "outputs": [
        {
          "output_type": "stream",
          "name": "stdout",
          "text": [
            "  #    BibNum  Title                                                Author                     ISBN                                                 PublicationYear    Publisher                          Subjects                                             ItemType    ItemCollection    FloatingItem    ItemLocation    ReportDate             ItemCount\n",
            "  0   3011076  \"A tale of two friends / adapted by Ellie O'Ryan...  O'Ryan, Ellie              '1481425730, 1481425749, 9781481425735, 97814814...  2014.              Simon Spotlight,                   'Musicians Fiction, Bullfighters Fiction, Best f...  jcbk        ncrdr             Floating        qna             2017-09-01 00:00:00            1\n",
            "  1   2248846  'Naruto. Vol. 1, Uzumaki Naruto / story and art ...  Kishimoto, Masashi, 1974-  1569319006                                           2003, c1999.       Viz,                               'Ninja Japan Comic books strips etc, Comic books...  acbk        nycomic           NA              lcy             2017-09-01 00:00:00            1\n",
            "  2   3209270  'Peace, love & Wi-Fi : a ZITS treasury / by Jerr...  Scott, Jerry, 1955-        144945867X, 9781449458676                            2014.              Andrews McMeel Publishing,         'Duncan Jeremy Fictitious character Comic books ...  acbk        nycomic           NA              bea             2017-09-01 00:00:00            1\n",
            "  3   1907265  The Paris pilgrims : a novel / Clancy Carlile.       Carlile, Clancy, 1930-     0786706155                                           c1999.             Carroll & Graf,                    'Hemingway Ernest 1899 1961 Fiction, Biographica...  acbk        cafic             NA              cen             2017-09-01 00:00:00            1\n",
            "  4   1644616  'Erotic by nature : a celebration of life, of lo...                             094020813X                                           1991, c1988.       Red Alder Books/Down There Press,  'Erotic literature American, American literature...  acbk        canf              NA              cen             2017-09-01 00:00:00            1\n",
            "  5   1736505  \"Children of Cambodia's killing fields : memoirs...                             0300068395, 0300078730                               c1997.             Yale University Press,             'Political atrocities Cambodia, Children Cambodi...  acbk        canf              NA              cen             2017-09-01 00:00:00            1\n",
            "  6   1749492  'Anti-Zionism : analytical reflections / editors...                             091559773X                                           c1989.             Amana Books,                       'Berger Elmer 1908 1996, Zionism Controversial l...  acbk        canf              NA              cen             2017-09-01 00:00:00            1\n",
            "  7   3270562  Hard-hearted Highlander / Julia London.              London, Julia              '0373789998, 037380394X, 9780373789993, 97803738...  [2017]             HQN,                               'Man woman relationships Fiction, Betrothal Fict...  acbk        nanew             NA              lcy             2017-09-01 00:00:00            1\n",
            "  8   3264577  The Sandcastle Empire / Kayla Olson.                 Olson, Kayla               0062484877, 9780062484871                            2017.              HarperTeen,                        'Survival Juvenile fiction, Islands Juvenile fic...  acbk        nynew             NA              nga             2017-09-01 00:00:00            1\n",
            "  9   3236819  'Doctor Who. The return of Doctor Mysterio / BBC...                                                                                  [2017]             BBC Worldwide,                     'Doctor Fictitious character Drama, Time travel ...  acdvd       nadvd             Floating        wts             2017-09-01 00:00:00            2\n"
          ]
        }
      ]
    },
    {
      "cell_type": "code",
      "source": [
        "# Filter to only include rows where 'ItemType' is 'Book'\n",
        "df_books = df_subset[df_subset['ItemType'] == 'acbk']\n",
        "\n",
        "df_books_fiction = df_books[df_books['Subjects'].str.contains('Fiction')]\n",
        "\n",
        "# Group by 'BibNum' and count occurrences of each book\n",
        "df_grouped = df_books_fiction.groupby('BibNum', agg={'popularity_count': vaex.agg.count()})\n",
        "\n",
        "# Sort by popularity count to find the most popular books\n",
        "df_sorted = df_grouped.sort(by='popularity_count', ascending=False)\n",
        "\n",
        "# Display the result\n",
        "print(df_sorted.head())"
      ],
      "metadata": {
        "colab": {
          "base_uri": "https://localhost:8080/"
        },
        "id": "uIziHIqHkHtk",
        "outputId": "c8df7809-bf14-45b3-a826-af5da8229def"
      },
      "execution_count": 54,
      "outputs": [
        {
          "output_type": "stream",
          "name": "stdout",
          "text": [
            "  #    BibNum    popularity_count\n",
            "  0   3061953                  26\n",
            "  1   3244926                  26\n",
            "  2   3157000                  26\n",
            "  3   3208214                  25\n",
            "  4   3168629                  25\n",
            "  5   3224239                  25\n",
            "  6   3180774                  25\n",
            "  7   3265070                  25\n",
            "  8   3182488                  25\n",
            "  9   3219278                  25\n"
          ]
        }
      ]
    },
    {
      "cell_type": "markdown",
      "metadata": {
        "id": "31NZ1B3S0P2i"
      },
      "source": [
        "**Question 2**: Using Vaex, find the top-10 fiction subjects (5pt), and use Seaborn to visualize the number of items over time for each subject (15pt)\n",
        "    "
      ]
    },
    {
      "cell_type": "code",
      "metadata": {
        "id": "keOHakis0P2j",
        "colab": {
          "base_uri": "https://localhost:8080/"
        },
        "outputId": "a792c1df-1746-45bf-ac25-06f85eb1021f"
      },
      "source": [
        "import vaex\n",
        "\n",
        "# Filter rows where ItemType is 'Book' and subject contains 'Fiction'\n",
        "df_books_fiction = df_subset[df_subset['ItemType'] == 'acbk']\n",
        "df_books_fiction = df_books_fiction[df_books_fiction['Subjects'].str.contains('Fiction')]\n",
        "\n",
        "# Group by subjects and count the number of items\n",
        "df_grouped = df_books_fiction.groupby('Subjects', agg={'count_items': vaex.agg.count()})\n",
        "\n",
        "# Sort and display the top 10 subjects\n",
        "df_top_10_subjects = df_grouped.sort(by='count_items', ascending=False).head(10)\n",
        "print(df_top_10_subjects)\n"
      ],
      "execution_count": 56,
      "outputs": [
        {
          "output_type": "stream",
          "name": "stdout",
          "text": [
            "  #  Subjects                                               count_items\n",
            "  0  Man woman relationships Fiction, Love stories                  244\n",
            "  1  Magic Fiction, Fantasy fiction                                  95\n",
            "  2  Man woman relationships Fiction                                 84\n",
            "  3  Murder Investigation Fiction, Mystery fiction                   83\n",
            "  4  Space warfare Fiction, Science fiction                          77\n",
            "  5  'Imaginary wars and battles Fiction, Fantasy fic...             68\n",
            "  6  Vampires Fiction, Paranormal romance stories                    66\n",
            "  7  Life on other planets Fiction, Science fiction                  52\n",
            "  8  'Spenser Fictitious character Fiction, Private i...             51\n",
            "  9  Sisters Fiction, Domestic fiction                               48\n"
          ]
        }
      ]
    },
    {
      "cell_type": "code",
      "source": [
        "import vaex\n",
        "import pandas as pd\n",
        "import seaborn as sns\n",
        "import matplotlib.pyplot as plt\n",
        "\n",
        "# Filter for books and only fiction subjects\n",
        "df_books_fiction = df[df['ItemType'] == 'acbk']\n",
        "\n",
        "# Clean the 'PublicationYear' column to extract valid year format (4-digit year)\n",
        "df_books_fiction['PublicationYear'] = df_books_fiction['PublicationYear'].str.replace(r'[^\\d]', '', regex=True)\n",
        "\n",
        "print(df_books_fiction.head())\n",
        "\n",
        "# Convert 'PublicationYear' to datetime, handling invalid dates by coercing\n",
        "df_books_fiction['PublicationYear'] = pd.to_datetime(df_books_fiction['PublicationYear'], errors='coerce')\n",
        "\n",
        "# Group by 'Subjects' and 'PublicationYear', then count the number of books in each group\n",
        "df_grouped = df_books_fiction.groupby(['Subjects', 'PublicationYear'], agg={'book_count': vaex.agg.count()})\n",
        "\n",
        "# Convert the Vaex DataFrame back to Pandas for easier visualization\n",
        "df_grouped_pd = df_grouped.to_pandas()\n",
        "\n",
        "# Filter top-10 fiction subjects\n",
        "top_10_subjects = df_grouped_pd['Subjects'].value_counts().head(10).index\n",
        "\n",
        "# Filter dataset for top-10 subjects\n",
        "df_top_10 = df_grouped_pd[df_grouped_pd['Subjects'].isin(top_10_subjects)]\n",
        "\n",
        "# Plot the number of books over time for each subject\n",
        "plt.figure(figsize=(12, 8))\n",
        "sns.lineplot(data=df_top_10, x='PublicationYear', y='book_count', hue='Subjects', marker='o')\n",
        "plt.title('Top-10 Fiction Subjects by Number of Books Over Time')\n",
        "plt.xlabel('Publication Year')\n",
        "plt.ylabel('Number of Books')\n",
        "plt.legend(title='Subjects')\n",
        "plt.xticks(rotation=45)\n",
        "plt.tight_layout()\n",
        "plt.show()\n"
      ],
      "metadata": {
        "id": "nwcuB-6Aq8iB"
      },
      "execution_count": null,
      "outputs": []
    },
    {
      "cell_type": "markdown",
      "metadata": {
        "id": "WlbdMR3m0P2n"
      },
      "source": [
        "**Question 3:** Using Vaex, write a function that gets as input a subject name. The function returns the top-20 most _popular_ authors for the input subject (15pt).\n",
        "\n"
      ]
    },
    {
      "cell_type": "code",
      "metadata": {
        "id": "WXaxnXmr0P2o"
      },
      "source": [],
      "execution_count": null,
      "outputs": []
    },
    {
      "cell_type": "markdown",
      "metadata": {
        "id": "w5glNK9H0P2r"
      },
      "source": [
        "Using the [The Blog Authorship Corpus](https://www.kaggle.com/rtatman/blog-authorship-corpus.htm) and Vaex, please answer the following questions:"
      ]
    },
    {
      "cell_type": "markdown",
      "metadata": {
        "id": "DrxFfd-i0P2s"
      },
      "source": [
        "**Question 4:** Calculate the average and median age of bloggers in each topic by gender(5pt).\n",
        "Calculate the average and median age of bloggers according to their sign (5pt).\n",
        "Visualize the age distributions  of bloggers according to their  topic and gender using Seaborn and PlotlyExpress(15pt)"
      ]
    },
    {
      "cell_type": "code",
      "metadata": {
        "id": "0J2gbaCw0P2t"
      },
      "source": [],
      "execution_count": null,
      "outputs": []
    },
    {
      "cell_type": "markdown",
      "metadata": {
        "id": "HoIuWd1A0P2x"
      },
      "source": [
        "**Question 5:** Using the  [SJR Journal Ranking of 2018](https://www.scimagojr.com/journalrank.php) dataset and Seaborn, visualize\n",
        "    the H-index distributions according to the SJR Best Quartile (15pt). Using a grid, visualize the _Cites / Doc. (2years)_ histograms values of each publisher (15pt).\n",
        "\n",
        "**Note: You can use only the top publishers **\n",
        "    \n"
      ]
    },
    {
      "cell_type": "code",
      "metadata": {
        "id": "HNtgDQZE0P2y"
      },
      "source": [],
      "execution_count": null,
      "outputs": []
    }
  ]
}