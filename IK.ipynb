{
  "nbformat": 4,
  "nbformat_minor": 0,
  "metadata": {
    "colab": {
      "provenance": [],
      "gpuType": "T4",
      "authorship_tag": "ABX9TyOIWHxOyecVkwms8v9Ts/NN",
      "include_colab_link": true
    },
    "kernelspec": {
      "name": "python3",
      "display_name": "Python 3"
    },
    "language_info": {
      "name": "python"
    },
    "accelerator": "GPU"
  },
  "cells": [
    {
      "cell_type": "markdown",
      "metadata": {
        "id": "view-in-github",
        "colab_type": "text"
      },
      "source": [
        "<a href=\"https://colab.research.google.com/github/nitsansoffair/BigData/blob/main/IK.ipynb\" target=\"_parent\"><img src=\"https://colab.research.google.com/assets/colab-badge.svg\" alt=\"Open In Colab\"/></a>"
      ]
    },
    {
      "cell_type": "markdown",
      "source": [
        "Mount Google drive."
      ],
      "metadata": {
        "id": "ADOWFmDRWMP2"
      }
    },
    {
      "cell_type": "code",
      "execution_count": 1,
      "metadata": {
        "colab": {
          "base_uri": "https://localhost:8080/"
        },
        "id": "SAzkCruvRfde",
        "outputId": "305239c0-8d4d-4ed4-a52f-3ef763c09e38"
      },
      "outputs": [
        {
          "output_type": "stream",
          "name": "stdout",
          "text": [
            "Drive already mounted at /content/drive; to attempt to forcibly remount, call drive.mount(\"/content/drive\", force_remount=True).\n"
          ]
        }
      ],
      "source": [
        "from google.colab import drive\n",
        "\n",
        "# Mount Google Drive\n",
        "drive.mount('/content/drive')"
      ]
    },
    {
      "cell_type": "markdown",
      "source": [
        "ChatGPT query:\n",
        "\n",
        "\n",
        "```\n",
        "Given the ZIP path \"/content/drive/MyDrive/PhD/BGU/BigData/Project/IK.zip\".\n",
        "With the folders: politicians, idialists.\n",
        "Each folder has MP4 files.\n",
        "Create a code that does:\n",
        "1. Embed each video to a vector.\n",
        "2. Split to 80%-20%.\n",
        "3. Train classifier.\n",
        "4. Evaluate classifier.\n",
        "5. Display test example.\n",
        "```\n",
        "\n"
      ],
      "metadata": {
        "id": "oM_69ixNU5t4"
      }
    },
    {
      "cell_type": "markdown",
      "source": [
        "Load dataset."
      ],
      "metadata": {
        "id": "ccep8lweV81j"
      }
    },
    {
      "cell_type": "code",
      "source": [
        "import torch\n",
        "import zipfile\n",
        "import os\n",
        "import cv2\n",
        "\n",
        "import torchvision.transforms as transforms\n",
        "import torch.nn as nn\n",
        "import torch.optim as optim\n",
        "\n",
        "from torchvision.models.video import r3d_18\n",
        "from torch.utils.data import DataLoader, random_split\n",
        "from fastai.vision.all import *\n",
        "from pathlib import Path\n",
        "\n",
        "# Extract the ZIP file\n",
        "zip_path = \"/content/drive/MyDrive/PhD/BGU/BigData/Project/IK.zip\"\n",
        "extract_path = \"/content/videos\"\n",
        "\n",
        "with zipfile.ZipFile(zip_path, 'r') as zip_ref:\n",
        "    zip_ref.extractall(extract_path)\n",
        "\n",
        "# Define paths for video folders\n",
        "politicians_path = Path(extract_path) / \"politicians\"\n",
        "idealists_path = Path(extract_path) / \"idialists\""
      ],
      "metadata": {
        "id": "mlkVUBFJVbn9"
      },
      "execution_count": null,
      "outputs": []
    },
    {
      "cell_type": "markdown",
      "source": [
        "Model."
      ],
      "metadata": {
        "id": "SIa67MAzWBWi"
      }
    },
    {
      "cell_type": "code",
      "source": [
        "import torch\n",
        "import cv2\n",
        "\n",
        "import numpy as np\n",
        "\n",
        "from torch.utils.data import Dataset\n",
        "from pathlib import Path\n",
        "\n",
        "class VideoDataset(Dataset):\n",
        "    def __init__(self, video_dir, label):\n",
        "        self.video_dir = Path(video_dir)\n",
        "        self.label = label\n",
        "        self.video_files = list(self.video_dir.glob(\"*.mp4\"))\n",
        "\n",
        "    def __len__(self):\n",
        "        return len(self.video_files)\n",
        "\n",
        "    def __getitem__(self, idx):\n",
        "        video_path = str(self.video_files[idx])\n",
        "        cap = cv2.VideoCapture(video_path)\n",
        "        frames = []\n",
        "\n",
        "        while True:\n",
        "            ret, frame = cap.read()\n",
        "\n",
        "            if not ret:\n",
        "                break\n",
        "\n",
        "            frame = cv2.cvtColor(frame, cv2.COLOR_BGR2RGB)\n",
        "            frame = cv2.resize(frame, (224, 224))  # Ensure consistent size\n",
        "            frames.append(frame)\n",
        "\n",
        "        cap.release()\n",
        "\n",
        "        frames = np.stack(frames)\n",
        "        frames = torch.tensor(frames, dtype=torch.float32).permute(3, 0, 1, 2)  # Convert to (C, T, H, W)\n",
        "\n",
        "        return frames, self.label"
      ],
      "metadata": {
        "id": "6HGTgEUHVgfQ"
      },
      "execution_count": null,
      "outputs": []
    },
    {
      "cell_type": "markdown",
      "source": [
        "Split."
      ],
      "metadata": {
        "id": "w20-bZ5nWS6e"
      }
    },
    {
      "cell_type": "code",
      "source": [
        "# Prepare datasets\n",
        "politicians_dataset = VideoDataset(politicians_path, 0)\n",
        "idealists_dataset = VideoDataset(idealists_path, 1)\n",
        "\n",
        "full_dataset = torch.utils.data.ConcatDataset([politicians_dataset, idealists_dataset])\n",
        "\n",
        "# Split dataset into train and test\n",
        "train_size = int(0.8 * len(full_dataset))\n",
        "test_size = len(full_dataset) - train_size\n",
        "\n",
        "train_dataset, test_dataset = random_split(full_dataset, [train_size, test_size])\n",
        "\n",
        "# DataLoader with a custom collate function\n",
        "def collate_fn(batch):\n",
        "    videos, labels = zip(*batch)\n",
        "\n",
        "    # Find the maximum number of frames in the batch\n",
        "    max_frames = max(video.shape[1] for video in videos)\n",
        "\n",
        "    # Pad all videos to have the same number of frames\n",
        "    padded_videos = []\n",
        "    for video in videos:\n",
        "        num_frames = video.shape[1]\n",
        "        if num_frames < max_frames:\n",
        "            # Padding with zeros\n",
        "            pad_size = (0, 0, 0, 0, 0, max_frames - num_frames)\n",
        "            padded_video = torch.nn.functional.pad(video, pad_size, \"constant\", 0)\n",
        "        else:\n",
        "            padded_video = video\n",
        "        padded_videos.append(padded_video)\n",
        "\n",
        "    videos_tensor = torch.stack(padded_videos)\n",
        "    labels_tensor = torch.tensor(labels)\n",
        "\n",
        "    return videos_tensor, labels_tensor\n",
        "\n",
        "train_loader = DataLoader(train_dataset, batch_size=2, shuffle=True, collate_fn=collate_fn)\n",
        "test_loader = DataLoader(test_dataset, batch_size=2, shuffle=False, collate_fn=collate_fn)"
      ],
      "metadata": {
        "id": "yaylxlbGVjKx"
      },
      "execution_count": null,
      "outputs": []
    },
    {
      "cell_type": "markdown",
      "source": [
        "Features."
      ],
      "metadata": {
        "id": "--l_W84QWVt7"
      }
    },
    {
      "cell_type": "code",
      "source": [
        "# Use a pretrained R3D model for feature extraction\n",
        "model = r3d_18(pretrained=True)\n",
        "model.fc = nn.Linear(model.fc.in_features, 2)  # Adjust for 2 classes\n",
        "\n",
        "# Loss and optimizer\n",
        "criterion = nn.CrossEntropyLoss()\n",
        "optimizer = optim.Adam(model.parameters(), lr=0.001)"
      ],
      "metadata": {
        "id": "FtCvI9QRVmQv"
      },
      "execution_count": null,
      "outputs": []
    },
    {
      "cell_type": "markdown",
      "source": [
        "Train."
      ],
      "metadata": {
        "id": "3uxC0u4cWX6N"
      }
    },
    {
      "cell_type": "code",
      "source": [
        "for epoch in range(5):\n",
        "    model.train()\n",
        "\n",
        "    for videos, labels in train_loader:\n",
        "        # Ensure videos and labels are on the correct device\n",
        "        videos, labels = videos.cuda(), labels.cuda()\n",
        "\n",
        "        # Forward pass\n",
        "        outputs = model(videos)\n",
        "\n",
        "        # Compute loss\n",
        "        loss = criterion(outputs, labels)\n",
        "\n",
        "        # Backward pass and optimization\n",
        "        optimizer.zero_grad()\n",
        "        loss.backward()\n",
        "        optimizer.step()\n",
        "\n",
        "        print(f\"Epoch {epoch+1}, Loss: {loss.item():.4f}\")"
      ],
      "metadata": {
        "id": "eSuy7szFVpy9"
      },
      "execution_count": null,
      "outputs": []
    },
    {
      "cell_type": "markdown",
      "source": [
        "Evaluate."
      ],
      "metadata": {
        "id": "Lo6syR4IZgPy"
      }
    },
    {
      "cell_type": "code",
      "source": [
        "# Evaluation\n",
        "def evaluate(model, test_loader):\n",
        "    model.eval()\n",
        "\n",
        "    correct = 0\n",
        "    total = 0\n",
        "\n",
        "    with torch.no_grad():\n",
        "        for videos, labels in test_loader:\n",
        "            videos, labels = videos.cuda(), labels.cuda()\n",
        "\n",
        "            outputs = model(videos)\n",
        "\n",
        "            _, predicted = torch.max(outputs.data, 1)\n",
        "\n",
        "            total += labels.size(0)\n",
        "\n",
        "            correct += (predicted == labels).sum().item()\n",
        "\n",
        "    print(f\"Accuracy: {100 * correct / total}%\")\n",
        "\n",
        "evaluate(model, test_loader)"
      ],
      "metadata": {
        "id": "R3UHLwbXVsuK"
      },
      "execution_count": null,
      "outputs": []
    },
    {
      "cell_type": "markdown",
      "source": [
        "Test."
      ],
      "metadata": {
        "id": "f070wXQuZlS8"
      }
    },
    {
      "cell_type": "code",
      "source": [
        "# Display a test example\n",
        "def show_test_example(model, test_loader):\n",
        "    model.eval()\n",
        "\n",
        "    videos, labels = next(iter(test_loader))\n",
        "\n",
        "    video = videos[0].cpu().numpy()\n",
        "    label = labels[0].item()\n",
        "\n",
        "    # Display the first frame of the video\n",
        "    plt.imshow(np.transpose(video[0], (1, 2, 0)))\n",
        "    plt.title(f\"Label: {'Politician' if label == 0 else 'Idealist'}\")\n",
        "    plt.show()\n",
        "\n",
        "show_test_example(model, test_loader)"
      ],
      "metadata": {
        "id": "j720vhfOZl0R"
      },
      "execution_count": null,
      "outputs": []
    }
  ]
}