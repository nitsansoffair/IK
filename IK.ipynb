{
  "nbformat": 4,
  "nbformat_minor": 0,
  "metadata": {
    "colab": {
      "provenance": [],
      "gpuType": "T4",
      "authorship_tag": "ABX9TyPNNqRfbXX2sPk65zxJ4/iv",
      "include_colab_link": true
    },
    "kernelspec": {
      "name": "python3",
      "display_name": "Python 3"
    },
    "language_info": {
      "name": "python"
    },
    "accelerator": "GPU"
  },
  "cells": [
    {
      "cell_type": "markdown",
      "metadata": {
        "id": "view-in-github",
        "colab_type": "text"
      },
      "source": [
        "<a href=\"https://colab.research.google.com/github/nitsansoffair/BigData/blob/main/IK.ipynb\" target=\"_parent\"><img src=\"https://colab.research.google.com/assets/colab-badge.svg\" alt=\"Open In Colab\"/></a>"
      ]
    },
    {
      "cell_type": "markdown",
      "source": [
        "Mount Google drive."
      ],
      "metadata": {
        "id": "ADOWFmDRWMP2"
      }
    },
    {
      "cell_type": "code",
      "execution_count": 1,
      "metadata": {
        "colab": {
          "base_uri": "https://localhost:8080/"
        },
        "id": "SAzkCruvRfde",
        "outputId": "61d33b48-091b-4693-f8f4-765a0649c94e"
      },
      "outputs": [
        {
          "output_type": "stream",
          "name": "stdout",
          "text": [
            "Drive already mounted at /content/drive; to attempt to forcibly remount, call drive.mount(\"/content/drive\", force_remount=True).\n"
          ]
        }
      ],
      "source": [
        "from google.colab import drive\n",
        "\n",
        "# Mount Google Drive\n",
        "drive.mount('/content/drive')"
      ]
    },
    {
      "cell_type": "markdown",
      "source": [
        "ChatGPT query:\n",
        "\n",
        "\n",
        "```\n",
        "Given the ZIP path \"/content/drive/MyDrive/PhD/BGU/BigData/Project/IK.zip\".\n",
        "With the folders: politicians, idialists.\n",
        "Each folder has MP4 files.\n",
        "Create a code that does:\n",
        "1. Embed each video to a vector.\n",
        "2. Split to 80%-20%.\n",
        "3. Train classifier.\n",
        "4. Evaluate classifier.\n",
        "5. Display test example.\n",
        "```\n",
        "\n"
      ],
      "metadata": {
        "id": "oM_69ixNU5t4"
      }
    },
    {
      "cell_type": "markdown",
      "source": [
        "Load dataset."
      ],
      "metadata": {
        "id": "ccep8lweV81j"
      }
    },
    {
      "cell_type": "code",
      "source": [
        "import torch\n",
        "import zipfile\n",
        "import os\n",
        "import cv2\n",
        "\n",
        "import torchvision.transforms as transforms\n",
        "import torch.nn as nn\n",
        "import torch.optim as optim\n",
        "\n",
        "from torchvision.models.video import r3d_18\n",
        "from torch.utils.data import DataLoader, random_split\n",
        "from fastai.vision.all import *\n",
        "from pathlib import Path\n",
        "\n",
        "# Extract the ZIP file\n",
        "zip_path = \"/content/drive/MyDrive/PhD/BGU/BigData/Project/IK.zip\"\n",
        "extract_path = \"/content/videos\"\n",
        "\n",
        "with zipfile.ZipFile(zip_path, 'r') as zip_ref:\n",
        "    zip_ref.extractall(extract_path)\n",
        "\n",
        "# Define paths for video folders\n",
        "politicians_path = Path(extract_path) / \"politicians\"\n",
        "idealists_path = Path(extract_path) / \"idialists\""
      ],
      "metadata": {
        "id": "mlkVUBFJVbn9"
      },
      "execution_count": 2,
      "outputs": []
    },
    {
      "cell_type": "markdown",
      "source": [
        "Model."
      ],
      "metadata": {
        "id": "SIa67MAzWBWi"
      }
    },
    {
      "cell_type": "code",
      "source": [
        "# Video frames.\n",
        "n_frames = 1"
      ],
      "metadata": {
        "id": "JMCSyUpPVGJt"
      },
      "execution_count": null,
      "outputs": []
    },
    {
      "cell_type": "code",
      "source": [
        "import torch\n",
        "import cv2\n",
        "\n",
        "import numpy as np\n",
        "\n",
        "from torch.utils.data import Dataset\n",
        "from pathlib import Path\n",
        "\n",
        "class VideoDataset(Dataset):\n",
        "    def __init__(self, video_dir, label, n_frames):\n",
        "        self.video_dir = Path(video_dir)\n",
        "        self.label = label\n",
        "        self.video_files = list(self.video_dir.glob(\"*.mp4\"))\n",
        "\n",
        "        self.n_frames = n_frames\n",
        "\n",
        "    def __len__(self):\n",
        "        return len(self.video_files)\n",
        "\n",
        "    def __getitem__(self, idx):\n",
        "        video_path = str(self.video_files[idx])\n",
        "        cap = cv2.VideoCapture(video_path)\n",
        "        frames = []\n",
        "\n",
        "        idx_frame = 0\n",
        "\n",
        "        while True:\n",
        "            ret, frame = cap.read()\n",
        "\n",
        "            if not ret:\n",
        "                break\n",
        "\n",
        "            frame = cv2.cvtColor(frame, cv2.COLOR_BGR2RGB)\n",
        "            frame = cv2.resize(frame, (224, 224))  # Ensure consistent size\n",
        "            frames.append(frame)\n",
        "\n",
        "            idx_frame += 1\n",
        "\n",
        "            if idx_frame == self.n_frames:\n",
        "              break\n",
        "\n",
        "        cap.release()\n",
        "\n",
        "        frames = np.stack(frames)\n",
        "        frames = torch.tensor(frames, dtype=torch.float32).permute(3, 0, 1, 2)  # Convert to (C, T, H, W)\n",
        "\n",
        "        return frames, self.label"
      ],
      "metadata": {
        "id": "6HGTgEUHVgfQ"
      },
      "execution_count": 3,
      "outputs": []
    },
    {
      "cell_type": "markdown",
      "source": [
        "Split."
      ],
      "metadata": {
        "id": "w20-bZ5nWS6e"
      }
    },
    {
      "cell_type": "code",
      "source": [
        "# Prepare datasets\n",
        "politicians_dataset = VideoDataset(politicians_path, 0, n_frames)\n",
        "idealists_dataset = VideoDataset(idealists_path, 1, n_frames)\n",
        "\n",
        "full_dataset = torch.utils.data.ConcatDataset([politicians_dataset, idealists_dataset])\n",
        "\n",
        "# Split dataset into train and test\n",
        "train_size = int(0.8 * len(full_dataset))\n",
        "test_size = len(full_dataset) - train_size\n",
        "\n",
        "train_dataset, test_dataset = random_split(full_dataset, [train_size, test_size])\n",
        "\n",
        "# DataLoader with a custom collate function\n",
        "def collate_fn(batch):\n",
        "    videos, labels = zip(*batch)\n",
        "\n",
        "    # Pad all videos to have the same number of frames\n",
        "    padded_videos = []\n",
        "\n",
        "    for video in videos:\n",
        "        padded_videos.append(video)\n",
        "\n",
        "    videos_tensor = torch.stack(padded_videos)\n",
        "    labels_tensor = torch.tensor(labels)\n",
        "\n",
        "    return videos_tensor, labels_tensor\n",
        "\n",
        "train_loader = DataLoader(train_dataset, batch_size=2, shuffle=True, collate_fn=collate_fn)\n",
        "test_loader = DataLoader(test_dataset, batch_size=2, shuffle=False, collate_fn=collate_fn)"
      ],
      "metadata": {
        "id": "yaylxlbGVjKx"
      },
      "execution_count": 4,
      "outputs": []
    },
    {
      "cell_type": "markdown",
      "source": [
        "Features."
      ],
      "metadata": {
        "id": "--l_W84QWVt7"
      }
    },
    {
      "cell_type": "code",
      "source": [
        "# Use a pretrained R3D model for feature extraction\n",
        "model = r3d_18(pretrained=True)\n",
        "model.fc = nn.Linear(model.fc.in_features, 2)  # Adjust for 2 classes\n",
        "\n",
        "# Loss and optimizer\n",
        "criterion = nn.CrossEntropyLoss()\n",
        "optimizer = optim.Adam(model.parameters(), lr=0.001)"
      ],
      "metadata": {
        "id": "FtCvI9QRVmQv",
        "colab": {
          "base_uri": "https://localhost:8080/"
        },
        "outputId": "abda900b-8ea2-4d81-bbae-1e4e719c57e7"
      },
      "execution_count": 5,
      "outputs": [
        {
          "output_type": "stream",
          "name": "stderr",
          "text": [
            "/usr/local/lib/python3.10/dist-packages/torchvision/models/_utils.py:208: UserWarning: The parameter 'pretrained' is deprecated since 0.13 and may be removed in the future, please use 'weights' instead.\n",
            "  warnings.warn(\n",
            "/usr/local/lib/python3.10/dist-packages/torchvision/models/_utils.py:223: UserWarning: Arguments other than a weight enum or `None` for 'weights' are deprecated since 0.13 and may be removed in the future. The current behavior is equivalent to passing `weights=R3D_18_Weights.KINETICS400_V1`. You can also use `weights=R3D_18_Weights.DEFAULT` to get the most up-to-date weights.\n",
            "  warnings.warn(msg)\n"
          ]
        }
      ]
    },
    {
      "cell_type": "markdown",
      "source": [
        "Train."
      ],
      "metadata": {
        "id": "3uxC0u4cWX6N"
      }
    },
    {
      "cell_type": "code",
      "source": [
        "for epoch in range(5):\n",
        "    model.train()\n",
        "\n",
        "    for videos, labels in train_loader:\n",
        "        # Ensure videos and labels are on the correct device\n",
        "        videos, labels = videos.cuda(), labels.cuda()\n",
        "\n",
        "        # Forward pass\n",
        "        outputs = model(videos)\n",
        "\n",
        "        # Compute loss\n",
        "        loss = criterion(outputs, labels)\n",
        "\n",
        "        # Backward pass and optimization\n",
        "        optimizer.zero_grad()\n",
        "        loss.backward()\n",
        "        optimizer.step()\n",
        "\n",
        "        print(f\"Epoch {epoch+1}, Loss: {loss.item():.4f}\")"
      ],
      "metadata": {
        "colab": {
          "base_uri": "https://localhost:8080/",
          "height": 332
        },
        "id": "eSuy7szFVpy9",
        "outputId": "d187395c-2094-48cf-c559-06c0efc03e51"
      },
      "execution_count": 6,
      "outputs": [
        {
          "output_type": "error",
          "ename": "RuntimeError",
          "evalue": "Found no NVIDIA driver on your system. Please check that you have an NVIDIA GPU and installed a driver from http://www.nvidia.com/Download/index.aspx",
          "traceback": [
            "\u001b[0;31m---------------------------------------------------------------------------\u001b[0m",
            "\u001b[0;31mRuntimeError\u001b[0m                              Traceback (most recent call last)",
            "\u001b[0;32m<ipython-input-6-701aa2f3988d>\u001b[0m in \u001b[0;36m<cell line: 1>\u001b[0;34m()\u001b[0m\n\u001b[1;32m      4\u001b[0m     \u001b[0;32mfor\u001b[0m \u001b[0mvideos\u001b[0m\u001b[0;34m,\u001b[0m \u001b[0mlabels\u001b[0m \u001b[0;32min\u001b[0m \u001b[0mtrain_loader\u001b[0m\u001b[0;34m:\u001b[0m\u001b[0;34m\u001b[0m\u001b[0;34m\u001b[0m\u001b[0m\n\u001b[1;32m      5\u001b[0m         \u001b[0;31m# Ensure videos and labels are on the correct device\u001b[0m\u001b[0;34m\u001b[0m\u001b[0;34m\u001b[0m\u001b[0m\n\u001b[0;32m----> 6\u001b[0;31m         \u001b[0mvideos\u001b[0m\u001b[0;34m,\u001b[0m \u001b[0mlabels\u001b[0m \u001b[0;34m=\u001b[0m \u001b[0mvideos\u001b[0m\u001b[0;34m.\u001b[0m\u001b[0mcuda\u001b[0m\u001b[0;34m(\u001b[0m\u001b[0;34m)\u001b[0m\u001b[0;34m,\u001b[0m \u001b[0mlabels\u001b[0m\u001b[0;34m.\u001b[0m\u001b[0mcuda\u001b[0m\u001b[0;34m(\u001b[0m\u001b[0;34m)\u001b[0m\u001b[0;34m\u001b[0m\u001b[0;34m\u001b[0m\u001b[0m\n\u001b[0m\u001b[1;32m      7\u001b[0m \u001b[0;34m\u001b[0m\u001b[0m\n\u001b[1;32m      8\u001b[0m         \u001b[0;31m# Forward pass\u001b[0m\u001b[0;34m\u001b[0m\u001b[0;34m\u001b[0m\u001b[0m\n",
            "\u001b[0;32m/usr/local/lib/python3.10/dist-packages/torch/cuda/__init__.py\u001b[0m in \u001b[0;36m_lazy_init\u001b[0;34m()\u001b[0m\n\u001b[1;32m    317\u001b[0m         \u001b[0;32mif\u001b[0m \u001b[0;34m\"CUDA_MODULE_LOADING\"\u001b[0m \u001b[0;32mnot\u001b[0m \u001b[0;32min\u001b[0m \u001b[0mos\u001b[0m\u001b[0;34m.\u001b[0m\u001b[0menviron\u001b[0m\u001b[0;34m:\u001b[0m\u001b[0;34m\u001b[0m\u001b[0;34m\u001b[0m\u001b[0m\n\u001b[1;32m    318\u001b[0m             \u001b[0mos\u001b[0m\u001b[0;34m.\u001b[0m\u001b[0menviron\u001b[0m\u001b[0;34m[\u001b[0m\u001b[0;34m\"CUDA_MODULE_LOADING\"\u001b[0m\u001b[0;34m]\u001b[0m \u001b[0;34m=\u001b[0m \u001b[0;34m\"LAZY\"\u001b[0m\u001b[0;34m\u001b[0m\u001b[0;34m\u001b[0m\u001b[0m\n\u001b[0;32m--> 319\u001b[0;31m         \u001b[0mtorch\u001b[0m\u001b[0;34m.\u001b[0m\u001b[0m_C\u001b[0m\u001b[0;34m.\u001b[0m\u001b[0m_cuda_init\u001b[0m\u001b[0;34m(\u001b[0m\u001b[0;34m)\u001b[0m\u001b[0;34m\u001b[0m\u001b[0;34m\u001b[0m\u001b[0m\n\u001b[0m\u001b[1;32m    320\u001b[0m         \u001b[0;31m# Some of the queued calls may reentrantly call _lazy_init();\u001b[0m\u001b[0;34m\u001b[0m\u001b[0;34m\u001b[0m\u001b[0m\n\u001b[1;32m    321\u001b[0m         \u001b[0;31m# we need to just return without initializing in that case.\u001b[0m\u001b[0;34m\u001b[0m\u001b[0;34m\u001b[0m\u001b[0m\n",
            "\u001b[0;31mRuntimeError\u001b[0m: Found no NVIDIA driver on your system. Please check that you have an NVIDIA GPU and installed a driver from http://www.nvidia.com/Download/index.aspx"
          ]
        }
      ]
    },
    {
      "cell_type": "markdown",
      "source": [
        "Evaluate."
      ],
      "metadata": {
        "id": "Lo6syR4IZgPy"
      }
    },
    {
      "cell_type": "code",
      "source": [
        "# Evaluation\n",
        "def evaluate(model, test_loader):\n",
        "    model.eval()\n",
        "\n",
        "    correct = 0\n",
        "    total = 0\n",
        "\n",
        "    with torch.no_grad():\n",
        "        for videos, labels in test_loader:\n",
        "            videos, labels = videos.cuda(), labels.cuda()\n",
        "\n",
        "            outputs = model(videos)\n",
        "\n",
        "            _, predicted = torch.max(outputs.data, 1)\n",
        "\n",
        "            total += labels.size(0)\n",
        "\n",
        "            correct += (predicted == labels).sum().item()\n",
        "\n",
        "    print(f\"Accuracy: {100 * correct / total}%\")\n",
        "\n",
        "evaluate(model, test_loader)"
      ],
      "metadata": {
        "id": "R3UHLwbXVsuK"
      },
      "execution_count": null,
      "outputs": []
    },
    {
      "cell_type": "markdown",
      "source": [
        "Test."
      ],
      "metadata": {
        "id": "f070wXQuZlS8"
      }
    },
    {
      "cell_type": "code",
      "source": [
        "# Display a test example\n",
        "def show_test_example(model, test_loader):\n",
        "    model.eval()\n",
        "\n",
        "    videos, labels = next(iter(test_loader))\n",
        "\n",
        "    video = videos[0].cpu().numpy()\n",
        "    label = labels[0].item()\n",
        "\n",
        "    # Display the first frame of the video\n",
        "    plt.imshow(np.transpose(video[0], (1, 2, 0)))\n",
        "    plt.title(f\"Label: {'Politician' if label == 0 else 'Idealist'}\")\n",
        "    plt.show()\n",
        "\n",
        "show_test_example(model, test_loader)"
      ],
      "metadata": {
        "id": "j720vhfOZl0R"
      },
      "execution_count": null,
      "outputs": []
    }
  ]
}